{
 "cells": [
  {
   "cell_type": "markdown",
   "metadata": {
    "colab_type": "text",
    "id": "view-in-github"
   },
   "source": [
    "<a href=\"https://colab.research.google.com/github/etoileboots/tbilisi_biking/blob/main/download_census_data_all.ipynb\" target=\"_parent\"><img src=\"https://colab.research.google.com/assets/colab-badge.svg\" alt=\"Open In Colab\"/></a>"
   ]
  },
  {
   "cell_type": "code",
   "execution_count": 2,
   "metadata": {
    "colab": {
     "base_uri": "https://localhost:8080/"
    },
    "id": "rXBQO5rLhZnP",
    "outputId": "59053dd6-c362-4e70-eacf-726cf13ac8f6"
   },
   "outputs": [
    {
     "name": "stdout",
     "output_type": "stream",
     "text": [
      "Collecting census\n",
      "  Downloading census-0.8.22-py3-none-any.whl.metadata (8.1 kB)\n",
      "Collecting us\n",
      "  Downloading us-3.2.0-py3-none-any.whl.metadata (10 kB)\n",
      "Requirement already satisfied: requests>=1.1.0 in /usr/local/lib/python3.10/dist-packages (from census) (2.32.3)\n",
      "Requirement already satisfied: jellyfish in /usr/local/lib/python3.10/dist-packages (from us) (1.1.0)\n",
      "Requirement already satisfied: charset-normalizer<4,>=2 in /usr/local/lib/python3.10/dist-packages (from requests>=1.1.0->census) (3.4.0)\n",
      "Requirement already satisfied: idna<4,>=2.5 in /usr/local/lib/python3.10/dist-packages (from requests>=1.1.0->census) (3.10)\n",
      "Requirement already satisfied: urllib3<3,>=1.21.1 in /usr/local/lib/python3.10/dist-packages (from requests>=1.1.0->census) (2.2.3)\n",
      "Requirement already satisfied: certifi>=2017.4.17 in /usr/local/lib/python3.10/dist-packages (from requests>=1.1.0->census) (2024.8.30)\n",
      "Downloading census-0.8.22-py3-none-any.whl (11 kB)\n",
      "Downloading us-3.2.0-py3-none-any.whl (13 kB)\n",
      "Installing collected packages: us, census\n",
      "Successfully installed census-0.8.22 us-3.2.0\n"
     ]
    }
   ],
   "source": [
    "! pip install census us"
   ]
  },
  {
   "cell_type": "code",
   "execution_count": 50,
   "metadata": {
    "colab": {
     "base_uri": "https://localhost:8080/"
    },
    "id": "wqT4FtJAhiKC",
    "outputId": "971e41e3-1ee9-4f80-d86c-3acd9c590392"
   },
   "outputs": [
    {
     "name": "stdout",
     "output_type": "stream",
     "text": [
      "Data exported to census_data_harris_county.csv\n"
     ]
    }
   ],
   "source": [
    "from census import Census\n",
    "from us import states\n",
    "import pandas as pd\n",
    "\n",
    "# Initialize the Census API client\n",
    "c = Census('PUT YOUR UNIQUE API KEY HERE') # can be sourced from this link: https://api.census.gov/data/key_signup.html\n",
    "\n",
    "# Define all fields with definitions here: https://docs.google.com/spreadsheets/d/1-PZyhQ9rfGLkI32m4QmbWiyxSZTaWSWpKWm2YJSBOVk/edit?usp=sharing\n",
    "fields = [\n",
    "    'B01001_001E', 'B01001_004E', 'B01001_005E', 'B01001_006E',\n",
    "    'B01001_028E', 'B01001_029E', 'B01001_030E',\n",
    "    'B01001_020E', 'B01001_021E', 'B01001_022E', 'B01001_023E', 'B01001_024E',\n",
    "    'B01001_025E', 'B01001_044E', 'B01001_045E', 'B01001_046E', 'B01001_047E',\n",
    "    'B01001_048E', 'B01001_049E',\n",
    "    'B08014_001E', 'B08014_002E', 'B08014_003E', 'B08014_004E', 'B08014_005E',\n",
    "    'B08014_006E', 'B08014_007E',\n",
    "    'B08012_001E', 'B08012_002E', 'B08012_003E', 'B08012_004E', 'B08012_005E',\n",
    "    'B08012_006E', 'B08012_007E', 'B08012_008E', 'B08012_009E', 'B08012_010E',\n",
    "    'B08012_011E', 'B08012_012E', 'B08012_013E',\n",
    "    'B08101_001E', 'B08101_009E', 'B08101_017E', 'B08101_025E', 'B08101_033E',\n",
    "    'B08101_041E',\n",
    "    'B17001_001E', 'B17001_002E', 'B17001_031E',\n",
    "    'B25001_001E', 'B19013_001E'\n",
    "]\n",
    "# Fetch data for Harris County, TX, for ACS 2022\n",
    "state_fips = states.TX.fips\n",
    "county_fips = '201'\n",
    "year = 2022\n",
    "\n",
    "# Fetch data using a single API call\n",
    "census_data = c.acs5.state_county_tract(\n",
    "    fields=fields,\n",
    "    state_fips=state_fips,\n",
    "    county_fips=county_fips,\n",
    "    tract='*',\n",
    "    year=year\n",
    ")\n",
    "df = pd.DataFrame(census_data)\n",
    "\n",
    "# Create GEOID20 for further use with shp\n",
    "df[\"GEOID20\"] = (df[\"state\"] + df[\"county\"] + df[\"tract\"]).astype(int)\n",
    "\n",
    "# Rename columns to be more intuitive\n",
    "df.rename(columns={\n",
    "    'B01001_001E': 'total_population',\n",
    "    'B01001_004E': 'male_5_to_9',\n",
    "    'B01001_005E': 'male_10_to_14',\n",
    "    'B01001_006E': 'male_15_to_17',\n",
    "    'B01001_028E': 'female_5_to_9',\n",
    "    'B01001_029E': 'female_10_to_14',\n",
    "    'B01001_030E': 'female_15_to_17',\n",
    "    'B01001_020E': 'male_65_to_66',\n",
    "    'B01001_021E': 'male_67_to_69',\n",
    "    'B01001_022E': 'male_70_to_74',\n",
    "    'B01001_023E': 'male_75_to_79',\n",
    "    'B01001_024E': 'male_80_to_84',\n",
    "    'B01001_025E': 'male_85_and_over',\n",
    "    'B01001_044E': 'female_65_to_66',\n",
    "    'B01001_045E': 'female_67_to_69',\n",
    "    'B01001_046E': 'female_70_to_74',\n",
    "    'B01001_047E': 'female_75_to_79',\n",
    "    'B01001_048E': 'female_80_to_84',\n",
    "    'B01001_049E': 'female_85_and_over',\n",
    "    'B08014_001E': 'total_people_vehicle_counted',\n",
    "    'B08014_002E': 'no_vehicle_available',\n",
    "    'B08014_003E': 'one_vehicle_available',\n",
    "    'B08014_004E': 'two_vehicles_available',\n",
    "    'B08014_005E': 'three_vehicles_available',\n",
    "    'B08014_006E': 'four_vehicles_available',\n",
    "    'B08014_007E': 'five_or_more_vehicles_available',\n",
    "    'B08012_001E': 'total_commuters',\n",
    "    'B08012_002E': 'travel_time_under_5',\n",
    "    'B08012_003E': 'travel_time_5_to_9',\n",
    "    'B08012_004E': 'travel_time_10_to_14',\n",
    "    'B08012_005E': 'travel_time_15_to_19',\n",
    "    'B08012_006E': 'travel_time_20_to_24',\n",
    "    'B08012_007E': 'travel_time_25_to_29',\n",
    "    'B08012_008E': 'travel_time_30_to_34',\n",
    "    'B08012_009E': 'travel_time_35_to_39',\n",
    "    'B08012_010E': 'travel_time_40_to_44',\n",
    "    'B08012_011E': 'travel_time_45_to_59',\n",
    "    'B08012_012E': 'travel_time_60_to_89',\n",
    "    'B08012_013E': 'travel_time_90_or_more',\n",
    "    'B08101_001E': 'total_transport_modes',\n",
    "    'B08101_009E': 'car_truck_van_drove_alone',\n",
    "    'B08101_017E': 'car_truck_van_carpooled',\n",
    "    'B08101_025E': 'public_transport',\n",
    "    'B08101_033E': 'walked',\n",
    "    'B08101_041E': 'taxicab_motorcycle_bicycle_other',\n",
    "    'B17001_001E': 'total_income_determined',\n",
    "    'B17001_002E': 'income_below_poverty',\n",
    "    'B17001_031E': 'income_above_poverty',\n",
    "    'B25001_001E': 'total_housing_units',\n",
    "    'B19013_001E': 'median_income'\n",
    "}, inplace=True)\n",
    "\n",
    "\n",
    "\n",
    "# Add calculated columns for totals\n",
    "df['total_youth'] = df[['male_5_to_9', 'male_10_to_14', 'male_15_to_17',\n",
    "                        'female_5_to_9', 'female_10_to_14', 'female_15_to_17']].sum(axis=1)\n",
    "\n",
    "df['total_elderly'] = df[['male_65_to_66', 'male_67_to_69', 'male_70_to_74', 'male_75_to_79',\n",
    "                          'male_80_to_84', 'male_85_and_over', 'female_65_to_66',\n",
    "                          'female_67_to_69', 'female_70_to_74', 'female_75_to_79',\n",
    "                          'female_80_to_84', 'female_85_and_over']].sum(axis=1)\n",
    "df['pct_youth'] = (df['total_youth']/df['total_population']) * 100\n",
    "df['pct_elderly'] = (df['total_elderly']/df['total_population']) * 100\n",
    "df['pct_income_below_poverty'] = (df['income_below_poverty'] / df['total_income_determined']) * 100\n",
    "df['pct_income_above_poverty'] = (df['income_above_poverty'] / df['total_income_determined']) * 100\n",
    "df['pct_commute_30_or_less'] = (df[['travel_time_under_5', 'travel_time_5_to_9', 'travel_time_10_to_14',\n",
    "                                     'travel_time_15_to_19', 'travel_time_20_to_24', 'travel_time_25_to_29']].sum(axis=1) / df['total_commuters']) * 100\n",
    "df['pct_commute_more_than_30'] = (df[['travel_time_30_to_34', 'travel_time_35_to_39', 'travel_time_40_to_44',\n",
    "                                      'travel_time_45_to_59', 'travel_time_60_to_89', 'travel_time_90_or_more']].sum(axis=1) / df['total_commuters']) * 100\n",
    "df['pct_commute_more_than_60'] = (df[['travel_time_60_to_89', 'travel_time_90_or_more']].sum(axis=1) / df['total_commuters']) * 100\n",
    "df['pct_no_vehicle'] = (df['no_vehicle_available'] / df['total_people_vehicle_counted']) * 100\n",
    "\n",
    "df['pct_car_truck_van_drove_alone'] = (df['car_truck_van_drove_alone'] / df['total_transport_modes']) * 100\n",
    "df['pct_car_truck_van_carpooled'] = (df['car_truck_van_carpooled'] / df['total_transport_modes']) * 100\n",
    "df['pct_public_transport'] = (df['public_transport'] / df['total_transport_modes']) * 100\n",
    "df['pct_walked'] = (df['walked'] / df['total_transport_modes']) * 100\n",
    "df['pct_other_transport'] = (df['taxicab_motorcycle_bicycle_other'] / df['total_transport_modes']) * 100\n",
    "\n",
    "\n",
    "# Export to CSV\n",
    "csv_path = \"census_data_harris_county.csv\"\n",
    "df.to_csv(csv_path, index=False)\n",
    "\n",
    "print(f\"Data exported to {csv_path}\")\n"
   ]
  }
 ],
 "metadata": {
  "colab": {
   "authorship_tag": "ABX9TyOQV3Xxvg9MgwE0BPKagfTn",
   "include_colab_link": true,
   "provenance": []
  },
  "kernelspec": {
   "display_name": "Python 3",
   "language": "python",
   "name": "python3"
  },
  "language_info": {
   "codemirror_mode": {
    "name": "ipython",
    "version": 3
   },
   "file_extension": ".py",
   "mimetype": "text/x-python",
   "name": "python",
   "nbconvert_exporter": "python",
   "pygments_lexer": "ipython3",
   "version": "3.8.8"
  }
 },
 "nbformat": 4,
 "nbformat_minor": 4
}
